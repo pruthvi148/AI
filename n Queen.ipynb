{
 "cells": [
  {
   "cell_type": "code",
   "execution_count": 12,
   "id": "8b8242b6-74ff-440e-8d14-cb7c8409541a",
   "metadata": {},
   "outputs": [
    {
     "name": "stdin",
     "output_type": "stream",
     "text": [
      "Enter the value of N ::  4\n"
     ]
    },
    {
     "name": "stdout",
     "output_type": "stream",
     "text": [
      "0 1 0 0 \n",
      "0 0 0 1 \n",
      "1 0 0 0 \n",
      "0 0 1 0 \n",
      "\n",
      "0 0 1 0 \n",
      "1 0 0 0 \n",
      "0 0 0 1 \n",
      "0 1 0 0 \n",
      "\n"
     ]
    }
   ],
   "source": [
    "def print_sol(): \n",
    "   for i in range(n): \n",
    "       for j in range(n): \n",
    "           print(a[i][j], end=\" \") \n",
    "       print() \n",
    "   print() \n",
    "\n",
    "def is_safe(row, col): \n",
    "   for i in range(col): \n",
    "       if a[row][i]: \n",
    "           return False \n",
    "   for i in range(row): \n",
    "       if a[i][col]: \n",
    "           return False \n",
    "   for i, j in zip(range(row - 1, -1, -1), range(col - 1, -1, -1)): \n",
    "       if a[i][j]: \n",
    "           return False \n",
    "   for i, j in zip(range(row - 1, -1, -1), range(col + 1, n)): \n",
    "       if a[i][j]: \n",
    "           return False \n",
    "   return True \n",
    "\n",
    "def nqueen(row): \n",
    "   if row == n: \n",
    "       print_sol() \n",
    "   else: \n",
    "       for i in range(n): \n",
    "           if is_safe(row, i): \n",
    "               a[row][i] = 1 \n",
    "               nqueen(row + 1) \n",
    "               a[row][i] = 0 \n",
    "\n",
    "n = int(input(\"Enter the value of N :: \")) \n",
    "a = [[0] * 10 for _ in range(10)] \n",
    "nqueen(0) "
   ]
  },
  {
   "cell_type": "code",
   "execution_count": null,
   "id": "cc160600-ba4d-4b6f-b212-2233a75292d5",
   "metadata": {},
   "outputs": [],
   "source": []
  }
 ],
 "metadata": {
  "kernelspec": {
   "display_name": "Python 3 (ipykernel)",
   "language": "python",
   "name": "python3"
  },
  "language_info": {
   "codemirror_mode": {
    "name": "ipython",
    "version": 3
   },
   "file_extension": ".py",
   "mimetype": "text/x-python",
   "name": "python",
   "nbconvert_exporter": "python",
   "pygments_lexer": "ipython3",
   "version": "3.12.7"
  }
 },
 "nbformat": 4,
 "nbformat_minor": 5
}
