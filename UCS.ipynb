{
 "cells": [
  {
   "cell_type": "code",
   "execution_count": null,
   "id": "0fa013a8-43a1-428d-882a-29684935408a",
   "metadata": {},
   "outputs": [],
   "source": []
  },
  {
   "cell_type": "code",
   "execution_count": 21,
   "id": "4b165757-f9db-4ac2-b12a-1a57e3d3f773",
   "metadata": {},
   "outputs": [
    {
     "name": "stdout",
     "output_type": "stream",
     "text": [
      "Path found: ['A', 'B', 'C', 'D'] with total cost: 4\n"
     ]
    }
   ],
   "source": [
    "import heapq\n",
    "\n",
    "class UCS:\n",
    "    def __init__(self, graph):\n",
    "        self.graph = graph  \n",
    "    \n",
    "    def uniform_cost_search(self, start, goal):\n",
    "      \n",
    "        frontier = []\n",
    "        heapq.heappush(frontier, (0, start)) \n",
    "        \n",
    "       \n",
    "        explored = {}\n",
    "        explored[start] = 0\n",
    "        \n",
    "       \n",
    "        came_from = {}\n",
    "        \n",
    "        while frontier:\n",
    "            current_cost, current_node = heapq.heappop(frontier)\n",
    "            \n",
    "           \n",
    "            if current_node == goal:\n",
    "                path = self.reconstruct_path(came_from, start, goal)\n",
    "                return path, current_cost\n",
    "            \n",
    "           \n",
    "            for neighbor, cost in self.graph[current_node].items():\n",
    "                new_cost = current_cost + cost\n",
    "                \n",
    "                if neighbor not in explored or new_cost < explored[neighbor]:\n",
    "                    explored[neighbor] = new_cost\n",
    "                    heapq.heappush(frontier, (new_cost, neighbor))\n",
    "                    came_from[neighbor] = current_node\n",
    "        \n",
    "        return None, float('inf')  \n",
    "    \n",
    "    def reconstruct_path(self, came_from, start, goal):\n",
    "        path = [goal]\n",
    "        current_node = goal\n",
    "        \n",
    "        while current_node != start:\n",
    "            current_node = came_from[current_node]\n",
    "            path.append(current_node)\n",
    "        \n",
    "        path.reverse()\n",
    "        return path\n",
    "\n",
    "\n",
    "\n",
    "graph = {\n",
    "    'A': {'B': 1, 'C': 4},\n",
    "    'B': {'A': 1, 'C': 2, 'D': 5},\n",
    "    'C': {'A': 4, 'B': 2, 'D': 1},\n",
    "    'D': {'B': 5, 'C': 1}\n",
    "}\n",
    "\n",
    "\n",
    "ucs = UCS(graph)\n",
    "\n",
    "\n",
    "path, cost = ucs.uniform_cost_search('A', 'D')\n",
    "\n",
    "if path:\n",
    "    print(f\"Path found: {path} with total cost: {cost}\")\n",
    "else:\n",
    "    print(\"No path found.\")\n",
    "\n",
    "\n",
    "       \n",
    "                                                                                                                 "
   ]
  },
  {
   "cell_type": "code",
   "execution_count": null,
   "id": "3f7c07c0-9755-4ac4-bf1e-71b1457bbc98",
   "metadata": {},
   "outputs": [],
   "source": []
  },
  {
   "cell_type": "code",
   "execution_count": null,
   "id": "0c1fb04f-7770-43fc-9eae-959c40ee057c",
   "metadata": {},
   "outputs": [],
   "source": []
  },
  {
   "cell_type": "code",
   "execution_count": null,
   "id": "68585704-1b79-4eb3-9a3c-49414b91a38c",
   "metadata": {},
   "outputs": [],
   "source": []
  }
 ],
 "metadata": {
  "kernelspec": {
   "display_name": "Python 3 (ipykernel)",
   "language": "python",
   "name": "python3"
  },
  "language_info": {
   "codemirror_mode": {
    "name": "ipython",
    "version": 3
   },
   "file_extension": ".py",
   "mimetype": "text/x-python",
   "name": "python",
   "nbconvert_exporter": "python",
   "pygments_lexer": "ipython3",
   "version": "3.12.7"
  }
 },
 "nbformat": 4,
 "nbformat_minor": 5
}
