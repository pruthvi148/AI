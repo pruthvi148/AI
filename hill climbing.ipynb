{
 "cells": [
  {
   "cell_type": "code",
   "execution_count": 39,
   "id": "d70922c2-e79f-4523-9c53-2acfe1527f86",
   "metadata": {
    "scrolled": true
   },
   "outputs": [
    {
     "name": "stdout",
     "output_type": "stream",
     "text": [
      "vale of x:1.997476672264431\n",
      "maximize value of x:3.999993632817139\n"
     ]
    }
   ],
   "source": [
    "import random\n",
    "def objective_f(x):\n",
    "    return -x**2+4*x\n",
    "def hill_climbing(f, start_point, step_size=0.1, max_iterations=1000):\n",
    "    current_point = start_point\n",
    "    current_value = f(current_point)\n",
    "    \n",
    "    for _ in range(max_iterations):\n",
    "        neighbors = [current_point - step_size, current_point + step_size]\n",
    "\n",
    "        neighbor_values = [f(neighbor) for neighbor in neighbors]\n",
    "\n",
    " \n",
    "        best_value = max(neighbor_values)\n",
    "        best_neighbor = neighbors[neighbor_values.index(best_value)]\n",
    "\n",
    "        if best_value>current_value:\n",
    "             current_point=best_neighbor\n",
    "             current_value=best_value\n",
    "        else:\n",
    "            break\n",
    "\n",
    "    return current_point,current_value\n",
    "\n",
    "start_point=random.uniform(0,5)\n",
    "optimal_x,optimal_value=hill_climbing(f,start_point)\n",
    "\n",
    "print(f\"vale of x:{optimal_x}\")\n",
    "print(f\"maximize value of x:{optimal_value}\")"
   ]
  },
  {
   "cell_type": "code",
   "execution_count": null,
   "id": "41c22c0f-b0bc-4b3b-9eb1-a551bac3301f",
   "metadata": {},
   "outputs": [],
   "source": []
  }
 ],
 "metadata": {
  "kernelspec": {
   "display_name": "Python 3 (ipykernel)",
   "language": "python",
   "name": "python3"
  },
  "language_info": {
   "codemirror_mode": {
    "name": "ipython",
    "version": 3
   },
   "file_extension": ".py",
   "mimetype": "text/x-python",
   "name": "python",
   "nbconvert_exporter": "python",
   "pygments_lexer": "ipython3",
   "version": "3.12.7"
  }
 },
 "nbformat": 4,
 "nbformat_minor": 5
}
