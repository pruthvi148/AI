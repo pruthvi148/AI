{
 "cells": [
  {
   "cell_type": "code",
   "execution_count": 1,
   "id": "c7a5af6d-ddd9-4474-9b37-a6523c15ca8f",
   "metadata": {},
   "outputs": [],
   "source": [
    "import numpy as np\n",
    "import pandas as pd\n",
    "import scipy.stats as st"
   ]
  },
  {
   "cell_type": "code",
   "execution_count": 2,
   "id": "28bc1555-5ec9-47e8-8e2d-fda5696beb39",
   "metadata": {},
   "outputs": [
    {
     "name": "stdout",
     "output_type": "stream",
     "text": [
      "22.3\n",
      "21.0\n",
      "ModeResult(mode=15, count=3)\n"
     ]
    }
   ],
   "source": [
    "arr = np.array([15, 21, 29, 21, 15, 24, 32, 21, 15, 30])\n",
    "print(arr.mean())\n",
    "print(np.median(arr))\n",
    "print(st.mode(arr))"
   ]
  },
  {
   "cell_type": "code",
   "execution_count": 7,
   "id": "5129f88b-96bb-4344-994b-0e7df3ae9e3e",
   "metadata": {},
   "outputs": [
    {
     "name": "stdout",
     "output_type": "stream",
     "text": [
      "My name is abc. I am 21 years old. My height is 5.6 feet. Am I a student? True.\n"
     ]
    }
   ],
   "source": [
    "name = \"abc\"      \n",
    "age = 21        \n",
    "height = 5.6       \n",
    "is_student = True\n",
    "\n",
    "print(f\"My name is {name}. I am {age} years old. My height is {height} feet. Am I a student? {is_student}.\")"
   ]
  },
  {
   "cell_type": "code",
   "execution_count": 9,
   "id": "c3bd15be-37fb-4d4c-922d-30737d9741ca",
   "metadata": {},
   "outputs": [
    {
     "name": "stdout",
     "output_type": "stream",
     "text": [
      "Enter a number:  -45\n"
     ]
    },
    {
     "name": "stdout",
     "output_type": "stream",
     "text": [
      "Negative number\n"
     ]
    }
   ],
   "source": [
    "num = float(input(\"Enter a number: \"))\n",
    "if num > 0:\n",
    "   print(\"Positive number\")\n",
    "elif num == 0:\n",
    "   print(\"Zero\")\n",
    "else:\n",
    "   print(\"Negative number\")"
   ]
  },
  {
   "cell_type": "code",
   "execution_count": 11,
   "id": "07027cb4-28b8-472a-ba7a-3c90032dde6f",
   "metadata": {},
   "outputs": [
    {
     "name": "stdout",
     "output_type": "stream",
     "text": [
      " 21\n"
     ]
    },
    {
     "name": "stdout",
     "output_type": "stream",
     "text": [
      "21 X 1 = 21\n",
      "21 X 2 = 42\n",
      "21 X 3 = 63\n",
      "21 X 4 = 84\n",
      "21 X 5 = 105\n",
      "21 X 6 = 126\n",
      "21 X 7 = 147\n",
      "21 X 8 = 168\n",
      "21 X 9 = 189\n",
      "21 X 10 = 210\n"
     ]
    }
   ],
   "source": [
    "b=int(input())\n",
    "for i in range(1,11):\n",
    "    y=b*i\n",
    "    print(b,\"X\",i,\"=\",y)"
   ]
  },
  {
   "cell_type": "code",
   "execution_count": 14,
   "id": "bbedcc91-74c8-486e-9a06-c3384357c9d6",
   "metadata": {},
   "outputs": [
    {
     "name": "stdout",
     "output_type": "stream",
     "text": [
      "Apple\n",
      "Black Grapes\n",
      "['Banana', 'Watermelon', 'Mango', 'Black Grapes']\n"
     ]
    }
   ],
   "source": [
    "fruits=['Apple','Banana','Watermelon','Mango','Black Grapes']\n",
    "print(fruits[0])\n",
    "print(fruits[-1])\n",
    "print(fruits[1:5])"
   ]
  },
  {
   "cell_type": "code",
   "execution_count": 18,
   "id": "176c5960-9308-4f6e-bece-9435d7b96e60",
   "metadata": {},
   "outputs": [
    {
     "name": "stdout",
     "output_type": "stream",
     "text": [
      "101\n",
      "501\n",
      "(201, 301)\n"
     ]
    }
   ],
   "source": [
    "nu=(101,201,301,401,501)\n",
    "print(nu[0])\n",
    "print(nu[-1])\n",
    "print(nu[1:3])"
   ]
  },
  {
   "cell_type": "code",
   "execution_count": 21,
   "id": "eaafcbf0-12a2-41cf-aaa5-cb67e0bfb001",
   "metadata": {},
   "outputs": [
    {
     "name": "stdout",
     "output_type": "stream",
     "text": [
      "65\n",
      "87\n",
      "dict_keys(['Vivek', 'Jashu', 'Reena'])\n",
      "dict_values([65, 87, 90])\n"
     ]
    }
   ],
   "source": [
    "Marks={\"Vivek\":65, \"Jashu\": 87, \"Reena\": 90}\n",
    "\n",
    "print(Marks[\"Vivek\"])\n",
    "print(Marks.get(\"Jashu\"))\n",
    "print(Marks.keys())\n",
    "print(Marks.values())"
   ]
  },
  {
   "cell_type": "code",
   "execution_count": 25,
   "id": "f2fd6692-102e-48a1-9608-ec069824c22b",
   "metadata": {},
   "outputs": [
    {
     "name": "stdout",
     "output_type": "stream",
     "text": [
      "84\n",
      "16\n",
      "1700\n",
      "1\n",
      "1.4705882352941178\n"
     ]
    }
   ],
   "source": [
    "num1 = 50\n",
    "num2 = 34\n",
    "print(num1 + num2) \n",
    "print(num1 - num2)\n",
    "print(num1*num2)\n",
    "print(num1//num2)\n",
    "print(num1/num2)"
   ]
  },
  {
   "cell_type": "code",
   "execution_count": 26,
   "id": "9d2d99ab-ecdf-4e74-965c-b4c3de53a92e",
   "metadata": {},
   "outputs": [
    {
     "data": {
      "text/plain": [
       "5"
      ]
     },
     "execution_count": 26,
     "metadata": {},
     "output_type": "execute_result"
    }
   ],
   "source": [
    "def find_largest(l1) -> int:\n",
    "  return max(l1)\n",
    "l1 = [2,3,4,5]\n",
    "find_largest(l1)"
   ]
  },
  {
   "cell_type": "code",
   "execution_count": 27,
   "id": "93d5679f-8b41-4d1b-a025-310ffc1ec68e",
   "metadata": {},
   "outputs": [
    {
     "data": {
      "text/plain": [
       "[4, 16, 36, 64, 100, 144, 196, 256, 324, 400]"
      ]
     },
     "execution_count": 27,
     "metadata": {},
     "output_type": "execute_result"
    }
   ],
   "source": [
    "V= [value**2 for value in range(1 , 21) if value % 2 ==  0 ]\n",
    "V"
   ]
  },
  {
   "cell_type": "code",
   "execution_count": 29,
   "id": "d654b277-8096-4e7e-934e-25776f6f1673",
   "metadata": {},
   "outputs": [
    {
     "data": {
      "text/plain": [
       "6"
      ]
     },
     "execution_count": 29,
     "metadata": {},
     "output_type": "execute_result"
    }
   ],
   "source": [
    "f=lambda x,y:x*y\n",
    "f(2,3)"
   ]
  },
  {
   "cell_type": "code",
   "execution_count": 30,
   "id": "23d37afd-e292-4ee9-a86a-ffb935b3de22",
   "metadata": {},
   "outputs": [
    {
     "name": "stdout",
     "output_type": "stream",
     "text": [
      "1D Shape: (5,) Dimensions: 1\n",
      "2D Shape: (2, 3) Dimensions: 2\n",
      "3D Shape: (2, 2, 2) Dimensions: 3\n"
     ]
    }
   ],
   "source": [
    "a1d = np.array([1, 2, 3, 4, 5])\n",
    "a2d = np.array([[1, 2, 3], [4, 5, 6]])\n",
    "a3d = np.array([[[1, 2], [3, 4]], [[5, 6], [7, 8]]])\n",
    "print(\"1D Shape:\",a1d.shape, \"Dimensions:\", a1d.ndim)\n",
    "print(\"2D Shape:\", a2d.shape, \"Dimensions:\", a2d.ndim)\n",
    "print(\"3D Shape:\", a3d.shape, \"Dimensions:\", a3d.ndim)"
   ]
  },
  {
   "cell_type": "code",
   "execution_count": 36,
   "id": "acebd92c-5780-4b0d-aced-4b90e7b1fbb7",
   "metadata": {},
   "outputs": [
    {
     "data": {
      "text/plain": [
       "array([[0.45426967, 0.58736839, 0.7202521 , 0.41253477, 0.05153309],\n",
       "       [0.31818236, 0.61871172, 0.42916619, 0.70658503, 0.02821945],\n",
       "       [0.00387322, 0.87966167, 0.36612409, 0.36385852, 0.73938677],\n",
       "       [0.46645645, 0.99110384, 0.18616659, 0.35630749, 0.06708759],\n",
       "       [0.48826427, 0.13624916, 0.69829301, 0.98926151, 0.74238195]])"
      ]
     },
     "execution_count": 36,
     "metadata": {},
     "output_type": "execute_result"
    }
   ],
   "source": [
    "np.random.random((5, 5))"
   ]
  },
  {
   "cell_type": "code",
   "execution_count": 39,
   "id": "ece2f29a-ba3b-422a-9790-7ef66cd60e4c",
   "metadata": {},
   "outputs": [
    {
     "data": {
      "text/plain": [
       "array([[ 5,  6],\n",
       "       [ 9, 10],\n",
       "       [13, 14]])"
      ]
     },
     "execution_count": 39,
     "metadata": {},
     "output_type": "execute_result"
    }
   ],
   "source": [
    "x=np.arange(1, 17).reshape(4, 4)\n",
    "x[1:,:2]"
   ]
  },
  {
   "cell_type": "code",
   "execution_count": 44,
   "id": "8ceb21e5-7ee6-4a5a-bc5a-bf91114b5724",
   "metadata": {},
   "outputs": [
    {
     "data": {
      "text/plain": [
       "array([[ 0,  1],\n",
       "       [ 2,  3],\n",
       "       [ 4,  5],\n",
       "       [ 6,  7],\n",
       "       [ 8,  9],\n",
       "       [10, 11]])"
      ]
     },
     "execution_count": 44,
     "metadata": {},
     "output_type": "execute_result"
    }
   ],
   "source": [
    "a2d = np.arange(12).reshape(6, 2)\n",
    "a3d = a2d.reshape(2, 3, 2)\n",
    "a3= a3d.flatten()\n",
    "a2d\n"
   ]
  },
  {
   "cell_type": "code",
   "execution_count": 45,
   "id": "bf778303-21a7-473e-aac3-2175910efff2",
   "metadata": {},
   "outputs": [
    {
     "data": {
      "text/plain": [
       "array([[[ 0,  1],\n",
       "        [ 2,  3],\n",
       "        [ 4,  5]],\n",
       "\n",
       "       [[ 6,  7],\n",
       "        [ 8,  9],\n",
       "        [10, 11]]])"
      ]
     },
     "execution_count": 45,
     "metadata": {},
     "output_type": "execute_result"
    }
   ],
   "source": [
    "a3d"
   ]
  },
  {
   "cell_type": "code",
   "execution_count": 46,
   "id": "73e9c45d-e14f-4feb-9d13-6a7d264533ec",
   "metadata": {},
   "outputs": [
    {
     "data": {
      "text/plain": [
       "array([ 0,  1,  2,  3,  4,  5,  6,  7,  8,  9, 10, 11])"
      ]
     },
     "execution_count": 46,
     "metadata": {},
     "output_type": "execute_result"
    }
   ],
   "source": [
    "a3"
   ]
  },
  {
   "cell_type": "code",
   "execution_count": 50,
   "id": "bf44d3b1-2ba3-433d-b050-1f2a901dc619",
   "metadata": {},
   "outputs": [
    {
     "data": {
      "text/plain": [
       "array([[ 0,  2,  4],\n",
       "       [ 3,  5,  7],\n",
       "       [ 6,  8, 10]])"
      ]
     },
     "execution_count": 50,
     "metadata": {},
     "output_type": "execute_result"
    }
   ],
   "source": [
    "a1 = np.arange(9).reshape(3 , 3)\n",
    "a2 = np.arange(3).reshape(1 , 3)\n",
    "a1 + a2"
   ]
  },
  {
   "cell_type": "code",
   "execution_count": 51,
   "id": "5e336916-7fa2-4787-be5c-d35e464f404a",
   "metadata": {},
   "outputs": [
    {
     "name": "stdout",
     "output_type": "stream",
     "text": [
      "[315 229 935 847 261]\n",
      "[-115  -21  105 -243  -49]\n",
      "[ 21500  13000 215800 164590  16430]\n",
      "[0.46511628 0.832      1.25301205 0.55412844 0.68387097]\n"
     ]
    }
   ],
   "source": [
    "a=np.array([100,104,520,302,106])\n",
    "b=np.array([215,125,415,545,155])\n",
    "print(a+b)\n",
    "print(a-b)\n",
    "print(a*b)\n",
    "print(a/b)"
   ]
  },
  {
   "cell_type": "code",
   "execution_count": 61,
   "id": "86eb0e39-7222-472a-a6e6-5786bf4cb3b1",
   "metadata": {},
   "outputs": [
    {
     "name": "stdout",
     "output_type": "stream",
     "text": [
      "  Name  math  ss  DSA\n",
      "0  abc    90  88   78\n",
      "1  bca    97  85   70\n",
      "2  cab    91  86  100\n",
      "  Name  math  ss  DSA  Total\n",
      "0  abc    90  88   78    256\n",
      "1  bca    97  85   70    252\n",
      "2  cab    91  86  100    277\n",
      "  Name  math  ss  DSA  Total Grade\n",
      "0  abc    90  88   78    256     B\n",
      "1  bca    97  85   70    252     B\n",
      "2  cab    91  86  100    277     A\n"
     ]
    }
   ],
   "source": [
    "d={\"Name\" : [\"abc\" , \"bca\" , \"cab\"] ,\n",
    "\"math\" : [90,97,91] , \n",
    "\"ss\" : [88,85,86] ,\n",
    "\"DSA\" : [78,70,100]}\n",
    "df= pd.DataFrame(d)\n",
    "print(df)\n",
    "df['Total'] = df.math + df.ss + df.DSA\n",
    "print(df)\n",
    "df['Grade'] = df.Total > 270\n",
    "df.Grade = np.where(df.Grade == True , 'A' , 'B')\n",
    "print(df)"
   ]
  },
  {
   "cell_type": "code",
   "execution_count": 66,
   "id": "b98723a8-cbda-4899-b995-eb54e4cb12c7",
   "metadata": {},
   "outputs": [],
   "source": [
    "x=pd.read_csv(\"robot_dataset(robot_dataset)_1(in).csv\")\n"
   ]
  },
  {
   "cell_type": "code",
   "execution_count": 67,
   "id": "cabafd16-4600-4404-adf8-9e7dbf8e2880",
   "metadata": {},
   "outputs": [
    {
     "data": {
      "text/html": [
       "<div>\n",
       "<style scoped>\n",
       "    .dataframe tbody tr th:only-of-type {\n",
       "        vertical-align: middle;\n",
       "    }\n",
       "\n",
       "    .dataframe tbody tr th {\n",
       "        vertical-align: top;\n",
       "    }\n",
       "\n",
       "    .dataframe thead th {\n",
       "        text-align: right;\n",
       "    }\n",
       "</style>\n",
       "<table border=\"1\" class=\"dataframe\">\n",
       "  <thead>\n",
       "    <tr style=\"text-align: right;\">\n",
       "      <th></th>\n",
       "      <th>Robot_ID</th>\n",
       "      <th>Task_Type</th>\n",
       "      <th>Component_ID</th>\n",
       "      <th>Sensor_Type</th>\n",
       "      <th>Sensor_Data</th>\n",
       "      <th>Processing_Time (s)</th>\n",
       "      <th>Accuracy (%)</th>\n",
       "      <th>Environmental_Status</th>\n",
       "      <th>Energy_Consumption (kWh)</th>\n",
       "      <th>Human_Intervention_Needed</th>\n",
       "      <th>Obstacle_Detected</th>\n",
       "      <th>Defect_Detected</th>\n",
       "      <th>Interaction_Count</th>\n",
       "      <th>Steps_Walked</th>\n",
       "      <th>Objects_Recognized</th>\n",
       "      <th>Learning_Sessions</th>\n",
       "      <th>Energy_Consumption (kWh).1</th>\n",
       "    </tr>\n",
       "  </thead>\n",
       "  <tbody>\n",
       "    <tr>\n",
       "      <th>0</th>\n",
       "      <td>RBT_001</td>\n",
       "      <td>Inspection</td>\n",
       "      <td>CMP_460</td>\n",
       "      <td>LIDAR</td>\n",
       "      <td>1 (obstacle detected)</td>\n",
       "      <td>67.0</td>\n",
       "      <td>90.4</td>\n",
       "      <td>Stable</td>\n",
       "      <td>2.2</td>\n",
       "      <td>No</td>\n",
       "      <td>Yes</td>\n",
       "      <td>Yes</td>\n",
       "      <td>2</td>\n",
       "      <td>10</td>\n",
       "      <td>2</td>\n",
       "      <td>10</td>\n",
       "      <td>100</td>\n",
       "    </tr>\n",
       "    <tr>\n",
       "      <th>1</th>\n",
       "      <td>RBT_002</td>\n",
       "      <td>Assembly</td>\n",
       "      <td>CMP_252</td>\n",
       "      <td>Thermal</td>\n",
       "      <td>85.3 (°C)</td>\n",
       "      <td>71.2</td>\n",
       "      <td>98.1</td>\n",
       "      <td>Stable</td>\n",
       "      <td>2.7</td>\n",
       "      <td>Yes</td>\n",
       "      <td>No</td>\n",
       "      <td>No</td>\n",
       "      <td>6</td>\n",
       "      <td>23</td>\n",
       "      <td>4</td>\n",
       "      <td>12</td>\n",
       "      <td>123</td>\n",
       "    </tr>\n",
       "    <tr>\n",
       "      <th>2</th>\n",
       "      <td>RBT_003</td>\n",
       "      <td>Inspection</td>\n",
       "      <td>CMP_248</td>\n",
       "      <td>Thermal</td>\n",
       "      <td>92% (visual fit)</td>\n",
       "      <td>49.2</td>\n",
       "      <td>95.3</td>\n",
       "      <td>Unstable</td>\n",
       "      <td>2.4</td>\n",
       "      <td>No</td>\n",
       "      <td>No</td>\n",
       "      <td>No</td>\n",
       "      <td>2</td>\n",
       "      <td>25</td>\n",
       "      <td>3</td>\n",
       "      <td>45</td>\n",
       "      <td>321</td>\n",
       "    </tr>\n",
       "    <tr>\n",
       "      <th>3</th>\n",
       "      <td>RBT_004</td>\n",
       "      <td>Welding</td>\n",
       "      <td>CMP_433</td>\n",
       "      <td>Camera</td>\n",
       "      <td>98% (defect-free)</td>\n",
       "      <td>74.5</td>\n",
       "      <td>90.2</td>\n",
       "      <td>Stable</td>\n",
       "      <td>2.4</td>\n",
       "      <td>Yes</td>\n",
       "      <td>No</td>\n",
       "      <td>Yes</td>\n",
       "      <td>7</td>\n",
       "      <td>34</td>\n",
       "      <td>5</td>\n",
       "      <td>12</td>\n",
       "      <td>456</td>\n",
       "    </tr>\n",
       "    <tr>\n",
       "      <th>4</th>\n",
       "      <td>RBT_005</td>\n",
       "      <td>Assembly</td>\n",
       "      <td>CMP_992</td>\n",
       "      <td>Camera</td>\n",
       "      <td>92% (visual fit)</td>\n",
       "      <td>64.5</td>\n",
       "      <td>97.2</td>\n",
       "      <td>Unstable</td>\n",
       "      <td>1.8</td>\n",
       "      <td>No</td>\n",
       "      <td>No</td>\n",
       "      <td>No</td>\n",
       "      <td>8</td>\n",
       "      <td>35</td>\n",
       "      <td>3</td>\n",
       "      <td>32</td>\n",
       "      <td>654</td>\n",
       "    </tr>\n",
       "  </tbody>\n",
       "</table>\n",
       "</div>"
      ],
      "text/plain": [
       "  Robot_ID   Task_Type Component_ID Sensor_Type            Sensor_Data  \\\n",
       "0  RBT_001  Inspection      CMP_460       LIDAR  1 (obstacle detected)   \n",
       "1  RBT_002    Assembly      CMP_252     Thermal              85.3 (°C)   \n",
       "2  RBT_003  Inspection      CMP_248     Thermal       92% (visual fit)   \n",
       "3  RBT_004     Welding      CMP_433      Camera      98% (defect-free)   \n",
       "4  RBT_005    Assembly      CMP_992      Camera       92% (visual fit)   \n",
       "\n",
       "   Processing_Time (s)  Accuracy (%) Environmental_Status  \\\n",
       "0                 67.0          90.4               Stable   \n",
       "1                 71.2          98.1               Stable   \n",
       "2                 49.2          95.3             Unstable   \n",
       "3                 74.5          90.2               Stable   \n",
       "4                 64.5          97.2             Unstable   \n",
       "\n",
       "   Energy_Consumption (kWh) Human_Intervention_Needed Obstacle_Detected  \\\n",
       "0                       2.2                        No               Yes   \n",
       "1                       2.7                       Yes                No   \n",
       "2                       2.4                        No                No   \n",
       "3                       2.4                       Yes                No   \n",
       "4                       1.8                        No                No   \n",
       "\n",
       "  Defect_Detected  Interaction_Count  Steps_Walked  Objects_Recognized  \\\n",
       "0             Yes                  2            10                   2   \n",
       "1              No                  6            23                   4   \n",
       "2              No                  2            25                   3   \n",
       "3             Yes                  7            34                   5   \n",
       "4              No                  8            35                   3   \n",
       "\n",
       "   Learning_Sessions  Energy_Consumption (kWh).1  \n",
       "0                 10                         100  \n",
       "1                 12                         123  \n",
       "2                 45                         321  \n",
       "3                 12                         456  \n",
       "4                 32                         654  "
      ]
     },
     "execution_count": 67,
     "metadata": {},
     "output_type": "execute_result"
    }
   ],
   "source": [
    "x.head()"
   ]
  },
  {
   "cell_type": "code",
   "execution_count": 68,
   "id": "6c75660d-833c-4178-9608-943f027a81dc",
   "metadata": {},
   "outputs": [
    {
     "data": {
      "text/html": [
       "<div>\n",
       "<style scoped>\n",
       "    .dataframe tbody tr th:only-of-type {\n",
       "        vertical-align: middle;\n",
       "    }\n",
       "\n",
       "    .dataframe tbody tr th {\n",
       "        vertical-align: top;\n",
       "    }\n",
       "\n",
       "    .dataframe thead th {\n",
       "        text-align: right;\n",
       "    }\n",
       "</style>\n",
       "<table border=\"1\" class=\"dataframe\">\n",
       "  <thead>\n",
       "    <tr style=\"text-align: right;\">\n",
       "      <th></th>\n",
       "      <th>Processing_Time (s)</th>\n",
       "      <th>Accuracy (%)</th>\n",
       "      <th>Energy_Consumption (kWh)</th>\n",
       "      <th>Interaction_Count</th>\n",
       "      <th>Steps_Walked</th>\n",
       "      <th>Objects_Recognized</th>\n",
       "      <th>Learning_Sessions</th>\n",
       "      <th>Energy_Consumption (kWh).1</th>\n",
       "    </tr>\n",
       "  </thead>\n",
       "  <tbody>\n",
       "    <tr>\n",
       "      <th>count</th>\n",
       "      <td>500.000000</td>\n",
       "      <td>500.000000</td>\n",
       "      <td>500.000000</td>\n",
       "      <td>500.000000</td>\n",
       "      <td>500.000000</td>\n",
       "      <td>500.000000</td>\n",
       "      <td>500.000000</td>\n",
       "      <td>500.000000</td>\n",
       "    </tr>\n",
       "    <tr>\n",
       "      <th>mean</th>\n",
       "      <td>59.937000</td>\n",
       "      <td>94.920600</td>\n",
       "      <td>2.014000</td>\n",
       "      <td>5.510000</td>\n",
       "      <td>28.758000</td>\n",
       "      <td>4.650000</td>\n",
       "      <td>35.960000</td>\n",
       "      <td>236.250000</td>\n",
       "    </tr>\n",
       "    <tr>\n",
       "      <th>std</th>\n",
       "      <td>11.688808</td>\n",
       "      <td>2.900949</td>\n",
       "      <td>0.582789</td>\n",
       "      <td>2.486416</td>\n",
       "      <td>11.094757</td>\n",
       "      <td>2.521948</td>\n",
       "      <td>19.797532</td>\n",
       "      <td>146.681008</td>\n",
       "    </tr>\n",
       "    <tr>\n",
       "      <th>min</th>\n",
       "      <td>40.100000</td>\n",
       "      <td>90.000000</td>\n",
       "      <td>1.000000</td>\n",
       "      <td>0.000000</td>\n",
       "      <td>0.000000</td>\n",
       "      <td>0.000000</td>\n",
       "      <td>10.000000</td>\n",
       "      <td>100.000000</td>\n",
       "    </tr>\n",
       "    <tr>\n",
       "      <th>25%</th>\n",
       "      <td>49.675000</td>\n",
       "      <td>92.500000</td>\n",
       "      <td>1.500000</td>\n",
       "      <td>3.000000</td>\n",
       "      <td>22.000000</td>\n",
       "      <td>2.750000</td>\n",
       "      <td>20.000000</td>\n",
       "      <td>119.500000</td>\n",
       "    </tr>\n",
       "    <tr>\n",
       "      <th>50%</th>\n",
       "      <td>59.600000</td>\n",
       "      <td>94.900000</td>\n",
       "      <td>2.000000</td>\n",
       "      <td>6.000000</td>\n",
       "      <td>29.000000</td>\n",
       "      <td>5.000000</td>\n",
       "      <td>31.000000</td>\n",
       "      <td>181.500000</td>\n",
       "    </tr>\n",
       "    <tr>\n",
       "      <th>75%</th>\n",
       "      <td>70.000000</td>\n",
       "      <td>97.500000</td>\n",
       "      <td>2.500000</td>\n",
       "      <td>7.000000</td>\n",
       "      <td>36.000000</td>\n",
       "      <td>7.000000</td>\n",
       "      <td>49.000000</td>\n",
       "      <td>320.250000</td>\n",
       "    </tr>\n",
       "    <tr>\n",
       "      <th>max</th>\n",
       "      <td>80.000000</td>\n",
       "      <td>99.900000</td>\n",
       "      <td>3.000000</td>\n",
       "      <td>12.000000</td>\n",
       "      <td>49.000000</td>\n",
       "      <td>9.000000</td>\n",
       "      <td>91.000000</td>\n",
       "      <td>654.000000</td>\n",
       "    </tr>\n",
       "  </tbody>\n",
       "</table>\n",
       "</div>"
      ],
      "text/plain": [
       "       Processing_Time (s)  Accuracy (%)  Energy_Consumption (kWh)  \\\n",
       "count           500.000000    500.000000                500.000000   \n",
       "mean             59.937000     94.920600                  2.014000   \n",
       "std              11.688808      2.900949                  0.582789   \n",
       "min              40.100000     90.000000                  1.000000   \n",
       "25%              49.675000     92.500000                  1.500000   \n",
       "50%              59.600000     94.900000                  2.000000   \n",
       "75%              70.000000     97.500000                  2.500000   \n",
       "max              80.000000     99.900000                  3.000000   \n",
       "\n",
       "       Interaction_Count  Steps_Walked  Objects_Recognized  Learning_Sessions  \\\n",
       "count         500.000000    500.000000          500.000000         500.000000   \n",
       "mean            5.510000     28.758000            4.650000          35.960000   \n",
       "std             2.486416     11.094757            2.521948          19.797532   \n",
       "min             0.000000      0.000000            0.000000          10.000000   \n",
       "25%             3.000000     22.000000            2.750000          20.000000   \n",
       "50%             6.000000     29.000000            5.000000          31.000000   \n",
       "75%             7.000000     36.000000            7.000000          49.000000   \n",
       "max            12.000000     49.000000            9.000000          91.000000   \n",
       "\n",
       "       Energy_Consumption (kWh).1  \n",
       "count                  500.000000  \n",
       "mean                   236.250000  \n",
       "std                    146.681008  \n",
       "min                    100.000000  \n",
       "25%                    119.500000  \n",
       "50%                    181.500000  \n",
       "75%                    320.250000  \n",
       "max                    654.000000  "
      ]
     },
     "execution_count": 68,
     "metadata": {},
     "output_type": "execute_result"
    }
   ],
   "source": [
    "x.describe()"
   ]
  },
  {
   "cell_type": "code",
   "execution_count": 69,
   "id": "fec01663-5557-48dd-96ef-96fd8c2d217b",
   "metadata": {},
   "outputs": [
    {
     "data": {
      "text/plain": [
       "array([[1.        , 0.00154781],\n",
       "       [0.00154781, 1.        ]])"
      ]
     },
     "execution_count": 69,
     "metadata": {},
     "output_type": "execute_result"
    }
   ],
   "source": [
    "c = np.corrcoef(x['Steps_Walked'],x['Energy_Consumption (kWh)'])\n",
    "c"
   ]
  },
  {
   "cell_type": "code",
   "execution_count": 70,
   "id": "ed670101-2ac0-4951-a0ec-8856ae2ee941",
   "metadata": {},
   "outputs": [
    {
     "data": {
      "text/plain": [
       "391.15840000000026"
      ]
     },
     "execution_count": 70,
     "metadata": {},
     "output_type": "execute_result"
    }
   ],
   "source": [
    "np.var(x['Learning_Sessions'])"
   ]
  },
  {
   "cell_type": "code",
   "execution_count": 71,
   "id": "275e9e7b-c4c3-42d9-93d0-e132e024d072",
   "metadata": {},
   "outputs": [
    {
     "data": {
      "text/plain": [
       "(array([15., 35., 75., 60., 60., 75., 45., 50., 40., 45.]),\n",
       " array([0. , 0.9, 1.8, 2.7, 3.6, 4.5, 5.4, 6.3, 7.2, 8.1, 9. ]),\n",
       " <BarContainer object of 10 artists>)"
      ]
     },
     "execution_count": 71,
     "metadata": {},
     "output_type": "execute_result"
    },
    {
     "data": {
      "image/png": "[encoded data removed]",
      "text/plain": [
       "<Figure size 640x480 with 1 Axes>"
      ]
     },
     "metadata": {},
     "output_type": "display_data"
    }
   ],
   "source": [
    "import matplotlib.pyplot as plt\n",
    "plt.hist(x.Objects_Recognized)"
   ]
  },
  {
   "cell_type": "code",
   "execution_count": null,
   "id": "92b2b80f-2588-40d7-ab49-58079be4c53f",
   "metadata": {},
   "outputs": [],
   "source": []
  }
 ],
 "metadata": {
  "kernelspec": {
   "display_name": "Python 3 (ipykernel)",
   "language": "python",
   "name": "python3"
  },
  "language_info": {
   "codemirror_mode": {
    "name": "ipython",
    "version": 3
   },
   "file_extension": ".py",
   "mimetype": "text/x-python",
   "name": "python",
   "nbconvert_exporter": "python",
   "pygments_lexer": "ipython3",
   "version": "3.12.4"
  }
 },
 "nbformat": 4,
 "nbformat_minor": 5
}
