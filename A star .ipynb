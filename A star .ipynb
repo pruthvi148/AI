{
 "cells": [
  {
   "cell_type": "code",
   "execution_count": 60,
   "id": "27754615-339d-4b16-9575-3e28e4beae9a",
   "metadata": {},
   "outputs": [
    {
     "name": "stdout",
     "output_type": "stream",
     "text": [
      "Path found: ['A', 'B', 'D', 'G']\n"
     ]
    }
   ],
   "source": [
    "import heapq\n",
    "\n",
    "class Node:\n",
    "    def __init__(self, name, g=0, h=0):\n",
    "        self.name = name\n",
    "        self.g = g\n",
    "        self.h = h\n",
    "        self.f = g + h\n",
    "        self.parent = None\n",
    "\n",
    "    def __lt__(self, other):\n",
    "        return self.f < other.f\n",
    "\n",
    "def a_star(graph, start, goal, heuristic):\n",
    "    open_list = []\n",
    "    heapq.heappush(open_list, Node(start, 0, heuristic[start]))\n",
    "    closed_list = set()\n",
    "    \n",
    "    while open_list:\n",
    "        current_node = heapq.heappop(open_list)\n",
    "        \n",
    "        if current_node.name == goal:\n",
    "            path = []\n",
    "            while current_node:\n",
    "                path.append(current_node.name)\n",
    "                current_node = current_node.parent\n",
    "            return path[::-1] \n",
    "        closed_list.add(current_node.name)\n",
    "\n",
    "        for neighbor, cost in graph[current_node.name].items():\n",
    "            if neighbor in closed_list:\n",
    "                continue\n",
    "            \n",
    "            g_cost = current_node.g + cost\n",
    "            h_cost = heuristic[neighbor]\n",
    "            neighbor_node = Node(neighbor, g_cost, h_cost)\n",
    "            neighbor_node.parent = current_node\n",
    "            heapq.heappush(open_list, neighbor_node)\n",
    "    \n",
    "    return None \n",
    "graph = {\n",
    "    'A': {'B': 1, 'C': 4},\n",
    "    'B': {'A': 1, 'D': 2, 'E': 5},\n",
    "    'C': {'A': 4, 'F': 1},\n",
    "    'D': {'B': 2, 'G': 2},\n",
    "    'E': {'B': 5},\n",
    "    'F': {'C': 1, 'G': 2},\n",
    "    'G': {'D': 2, 'F': 3}\n",
    "}\n",
    "heuristic = {\n",
    "    'A': 6, 'B': 4, 'C': 4, 'D': 3, 'E': 2, 'F': 2, 'G': 0\n",
    "}\n",
    "start = 'A'\n",
    "goal = 'G'\n",
    "path = a_star(graph, start, goal, heuristic)\n",
    "print(\"Path found:\", path)\n"
   ]
  },
  {
   "cell_type": "code",
   "execution_count": null,
   "id": "7ce37200-e286-41b7-942f-0709fbbdfa21",
   "metadata": {},
   "outputs": [],
   "source": []
  }
 ],
 "metadata": {
  "kernelspec": {
   "display_name": "Python 3 (ipykernel)",
   "language": "python",
   "name": "python3"
  },
  "language_info": {
   "codemirror_mode": {
    "name": "ipython",
    "version": 3
   },
   "file_extension": ".py",
   "mimetype": "text/x-python",
   "name": "python",
   "nbconvert_exporter": "python",
   "pygments_lexer": "ipython3",
   "version": "3.12.7"
  }
 },
 "nbformat": 4,
 "nbformat_minor": 5
}
